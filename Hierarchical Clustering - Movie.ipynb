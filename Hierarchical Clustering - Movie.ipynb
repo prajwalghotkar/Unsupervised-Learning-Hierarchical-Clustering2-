{
 "cells": [
  {
   "cell_type": "code",
   "execution_count": 1,
   "metadata": {
    "metadata": {}
   },
   "outputs": [
    {
     "data": {
      "text/plain": [
       "False"
      ]
     },
     "execution_count": 1,
     "metadata": {},
     "output_type": "execute_result"
    }
   ],
   "source": [
    "# Import Libraries\n",
    "\n",
    "from scipy.cluster.hierarchy import dendrogram,linkage\n",
    "import numpy as np\n",
    "import pandas as pd\n",
    "import seaborn as sns\n",
    "from matplotlib import pyplot as plt\n",
    "import os\n",
    "plt.rcParams['figure.figsize']==(20,10)"
   ]
  },
  {
   "cell_type": "code",
   "execution_count": 2,
   "metadata": {
    "metadata": {}
   },
   "outputs": [
    {
     "data": {
      "text/plain": [
       "'c:\\\\Users\\\\HP\\\\Desktop\\\\Machine Learning Programing with prajwal'"
      ]
     },
     "execution_count": 2,
     "metadata": {},
     "output_type": "execute_result"
    }
   ],
   "source": [
    "os.getcwd()"
   ]
  },
  {
   "cell_type": "code",
   "execution_count": 3,
   "metadata": {
    "metadata": {}
   },
   "outputs": [],
   "source": [
    "# Load Data Set\n",
    "\n",
    "os.chdir('C:\\\\Users\\\\HP\\\\Downloads\\\\Batch 93 Day33\\\\')"
   ]
  },
  {
   "cell_type": "code",
   "execution_count": 4,
   "metadata": {
    "metadata": {}
   },
   "outputs": [
    {
     "data": {
      "text/html": [
       "<div>\n",
       "<style scoped>\n",
       "    .dataframe tbody tr th:only-of-type {\n",
       "        vertical-align: middle;\n",
       "    }\n",
       "\n",
       "    .dataframe tbody tr th {\n",
       "        vertical-align: top;\n",
       "    }\n",
       "\n",
       "    .dataframe thead th {\n",
       "        text-align: right;\n",
       "    }\n",
       "</style>\n",
       "<table border=\"1\" class=\"dataframe\">\n",
       "  <thead>\n",
       "    <tr style=\"text-align: right;\">\n",
       "      <th></th>\n",
       "      <th>color</th>\n",
       "      <th>director_name</th>\n",
       "      <th>num_critic_for_reviews</th>\n",
       "      <th>duration</th>\n",
       "      <th>director_facebook_likes</th>\n",
       "      <th>actor_3_facebook_likes</th>\n",
       "      <th>actor_2_name</th>\n",
       "      <th>actor_1_facebook_likes</th>\n",
       "      <th>gross</th>\n",
       "      <th>genres</th>\n",
       "      <th>...</th>\n",
       "      <th>num_user_for_reviews</th>\n",
       "      <th>language</th>\n",
       "      <th>country</th>\n",
       "      <th>content_rating</th>\n",
       "      <th>budget</th>\n",
       "      <th>title_year</th>\n",
       "      <th>actor_2_facebook_likes</th>\n",
       "      <th>imdb_score</th>\n",
       "      <th>aspect_ratio</th>\n",
       "      <th>movie_facebook_likes</th>\n",
       "    </tr>\n",
       "  </thead>\n",
       "  <tbody>\n",
       "    <tr>\n",
       "      <th>0</th>\n",
       "      <td>Color</td>\n",
       "      <td>James Cameron</td>\n",
       "      <td>723</td>\n",
       "      <td>178</td>\n",
       "      <td>0</td>\n",
       "      <td>855</td>\n",
       "      <td>Joel David Moore</td>\n",
       "      <td>1000</td>\n",
       "      <td>760505847</td>\n",
       "      <td>Action|Adventure|Fantasy|Sci-Fi</td>\n",
       "      <td>...</td>\n",
       "      <td>3054</td>\n",
       "      <td>English</td>\n",
       "      <td>USA</td>\n",
       "      <td>PG-13</td>\n",
       "      <td>237000000</td>\n",
       "      <td>2009</td>\n",
       "      <td>936</td>\n",
       "      <td>7.9</td>\n",
       "      <td>1.78</td>\n",
       "      <td>33000</td>\n",
       "    </tr>\n",
       "    <tr>\n",
       "      <th>1</th>\n",
       "      <td>Color</td>\n",
       "      <td>Gore Verbinski</td>\n",
       "      <td>302</td>\n",
       "      <td>169</td>\n",
       "      <td>563</td>\n",
       "      <td>1000</td>\n",
       "      <td>Orlando Bloom</td>\n",
       "      <td>40000</td>\n",
       "      <td>309404152</td>\n",
       "      <td>Action|Adventure|Fantasy</td>\n",
       "      <td>...</td>\n",
       "      <td>1238</td>\n",
       "      <td>English</td>\n",
       "      <td>USA</td>\n",
       "      <td>PG-13</td>\n",
       "      <td>300000000</td>\n",
       "      <td>2007</td>\n",
       "      <td>5000</td>\n",
       "      <td>7.1</td>\n",
       "      <td>2.35</td>\n",
       "      <td>0</td>\n",
       "    </tr>\n",
       "    <tr>\n",
       "      <th>2</th>\n",
       "      <td>Color</td>\n",
       "      <td>Sam Mendes</td>\n",
       "      <td>602</td>\n",
       "      <td>148</td>\n",
       "      <td>0</td>\n",
       "      <td>161</td>\n",
       "      <td>Rory Kinnear</td>\n",
       "      <td>11000</td>\n",
       "      <td>200074175</td>\n",
       "      <td>Action|Adventure|Thriller</td>\n",
       "      <td>...</td>\n",
       "      <td>994</td>\n",
       "      <td>English</td>\n",
       "      <td>UK</td>\n",
       "      <td>PG-13</td>\n",
       "      <td>245000000</td>\n",
       "      <td>2015</td>\n",
       "      <td>393</td>\n",
       "      <td>6.8</td>\n",
       "      <td>2.35</td>\n",
       "      <td>85000</td>\n",
       "    </tr>\n",
       "    <tr>\n",
       "      <th>3</th>\n",
       "      <td>Color</td>\n",
       "      <td>Christopher Nolan</td>\n",
       "      <td>813</td>\n",
       "      <td>164</td>\n",
       "      <td>22000</td>\n",
       "      <td>23000</td>\n",
       "      <td>Christian Bale</td>\n",
       "      <td>27000</td>\n",
       "      <td>448130642</td>\n",
       "      <td>Action|Thriller</td>\n",
       "      <td>...</td>\n",
       "      <td>2701</td>\n",
       "      <td>English</td>\n",
       "      <td>USA</td>\n",
       "      <td>PG-13</td>\n",
       "      <td>250000000</td>\n",
       "      <td>2012</td>\n",
       "      <td>23000</td>\n",
       "      <td>8.5</td>\n",
       "      <td>2.35</td>\n",
       "      <td>164000</td>\n",
       "    </tr>\n",
       "    <tr>\n",
       "      <th>4</th>\n",
       "      <td>49</td>\n",
       "      <td>Doug Walker</td>\n",
       "      <td>49</td>\n",
       "      <td>49</td>\n",
       "      <td>131</td>\n",
       "      <td>49</td>\n",
       "      <td>Rob Walker</td>\n",
       "      <td>131</td>\n",
       "      <td>49</td>\n",
       "      <td>Documentary</td>\n",
       "      <td>...</td>\n",
       "      <td>49</td>\n",
       "      <td>49</td>\n",
       "      <td>49</td>\n",
       "      <td>49</td>\n",
       "      <td>49</td>\n",
       "      <td>49</td>\n",
       "      <td>12</td>\n",
       "      <td>7.1</td>\n",
       "      <td>49.00</td>\n",
       "      <td>0</td>\n",
       "    </tr>\n",
       "    <tr>\n",
       "      <th>...</th>\n",
       "      <td>...</td>\n",
       "      <td>...</td>\n",
       "      <td>...</td>\n",
       "      <td>...</td>\n",
       "      <td>...</td>\n",
       "      <td>...</td>\n",
       "      <td>...</td>\n",
       "      <td>...</td>\n",
       "      <td>...</td>\n",
       "      <td>...</td>\n",
       "      <td>...</td>\n",
       "      <td>...</td>\n",
       "      <td>...</td>\n",
       "      <td>...</td>\n",
       "      <td>...</td>\n",
       "      <td>...</td>\n",
       "      <td>...</td>\n",
       "      <td>...</td>\n",
       "      <td>...</td>\n",
       "      <td>...</td>\n",
       "      <td>...</td>\n",
       "    </tr>\n",
       "    <tr>\n",
       "      <th>5038</th>\n",
       "      <td>Color</td>\n",
       "      <td>Scott Smith</td>\n",
       "      <td>1</td>\n",
       "      <td>87</td>\n",
       "      <td>2</td>\n",
       "      <td>318</td>\n",
       "      <td>Daphne Zuniga</td>\n",
       "      <td>637</td>\n",
       "      <td>49</td>\n",
       "      <td>Comedy|Drama</td>\n",
       "      <td>...</td>\n",
       "      <td>6</td>\n",
       "      <td>English</td>\n",
       "      <td>Canada</td>\n",
       "      <td>49</td>\n",
       "      <td>49</td>\n",
       "      <td>2013</td>\n",
       "      <td>470</td>\n",
       "      <td>7.7</td>\n",
       "      <td>49.00</td>\n",
       "      <td>84</td>\n",
       "    </tr>\n",
       "    <tr>\n",
       "      <th>5039</th>\n",
       "      <td>Color</td>\n",
       "      <td>49</td>\n",
       "      <td>43</td>\n",
       "      <td>43</td>\n",
       "      <td>49</td>\n",
       "      <td>319</td>\n",
       "      <td>Valorie Curry</td>\n",
       "      <td>841</td>\n",
       "      <td>49</td>\n",
       "      <td>Crime|Drama|Mystery|Thriller</td>\n",
       "      <td>...</td>\n",
       "      <td>359</td>\n",
       "      <td>English</td>\n",
       "      <td>USA</td>\n",
       "      <td>TV-14</td>\n",
       "      <td>49</td>\n",
       "      <td>49</td>\n",
       "      <td>593</td>\n",
       "      <td>7.5</td>\n",
       "      <td>16.00</td>\n",
       "      <td>32000</td>\n",
       "    </tr>\n",
       "    <tr>\n",
       "      <th>5040</th>\n",
       "      <td>Color</td>\n",
       "      <td>Benjamin Roberds</td>\n",
       "      <td>13</td>\n",
       "      <td>76</td>\n",
       "      <td>0</td>\n",
       "      <td>0</td>\n",
       "      <td>Maxwell Moody</td>\n",
       "      <td>0</td>\n",
       "      <td>49</td>\n",
       "      <td>Drama|Horror|Thriller</td>\n",
       "      <td>...</td>\n",
       "      <td>3</td>\n",
       "      <td>English</td>\n",
       "      <td>USA</td>\n",
       "      <td>49</td>\n",
       "      <td>1400</td>\n",
       "      <td>2013</td>\n",
       "      <td>0</td>\n",
       "      <td>6.3</td>\n",
       "      <td>49.00</td>\n",
       "      <td>16</td>\n",
       "    </tr>\n",
       "    <tr>\n",
       "      <th>5041</th>\n",
       "      <td>Color</td>\n",
       "      <td>Daniel Hsia</td>\n",
       "      <td>14</td>\n",
       "      <td>100</td>\n",
       "      <td>0</td>\n",
       "      <td>489</td>\n",
       "      <td>Daniel Henney</td>\n",
       "      <td>946</td>\n",
       "      <td>10443</td>\n",
       "      <td>Comedy|Drama|Romance</td>\n",
       "      <td>...</td>\n",
       "      <td>9</td>\n",
       "      <td>English</td>\n",
       "      <td>USA</td>\n",
       "      <td>PG-13</td>\n",
       "      <td>49</td>\n",
       "      <td>2012</td>\n",
       "      <td>719</td>\n",
       "      <td>6.3</td>\n",
       "      <td>2.35</td>\n",
       "      <td>660</td>\n",
       "    </tr>\n",
       "    <tr>\n",
       "      <th>5042</th>\n",
       "      <td>Color</td>\n",
       "      <td>Jon Gunn</td>\n",
       "      <td>43</td>\n",
       "      <td>90</td>\n",
       "      <td>16</td>\n",
       "      <td>16</td>\n",
       "      <td>Brian Herzlinger</td>\n",
       "      <td>86</td>\n",
       "      <td>85222</td>\n",
       "      <td>Documentary</td>\n",
       "      <td>...</td>\n",
       "      <td>84</td>\n",
       "      <td>English</td>\n",
       "      <td>USA</td>\n",
       "      <td>PG</td>\n",
       "      <td>1100</td>\n",
       "      <td>2004</td>\n",
       "      <td>23</td>\n",
       "      <td>6.6</td>\n",
       "      <td>1.85</td>\n",
       "      <td>456</td>\n",
       "    </tr>\n",
       "  </tbody>\n",
       "</table>\n",
       "<p>5043 rows × 28 columns</p>\n",
       "</div>"
      ],
      "text/plain": [
       "      color      director_name  num_critic_for_reviews  duration  \\\n",
       "0     Color      James Cameron                     723       178   \n",
       "1     Color     Gore Verbinski                     302       169   \n",
       "2     Color         Sam Mendes                     602       148   \n",
       "3     Color  Christopher Nolan                     813       164   \n",
       "4        49        Doug Walker                      49        49   \n",
       "...     ...                ...                     ...       ...   \n",
       "5038  Color        Scott Smith                       1        87   \n",
       "5039  Color                 49                      43        43   \n",
       "5040  Color   Benjamin Roberds                      13        76   \n",
       "5041  Color        Daniel Hsia                      14       100   \n",
       "5042  Color           Jon Gunn                      43        90   \n",
       "\n",
       "      director_facebook_likes  actor_3_facebook_likes      actor_2_name  \\\n",
       "0                           0                     855  Joel David Moore   \n",
       "1                         563                    1000     Orlando Bloom   \n",
       "2                           0                     161      Rory Kinnear   \n",
       "3                       22000                   23000    Christian Bale   \n",
       "4                         131                      49        Rob Walker   \n",
       "...                       ...                     ...               ...   \n",
       "5038                        2                     318     Daphne Zuniga   \n",
       "5039                       49                     319     Valorie Curry   \n",
       "5040                        0                       0     Maxwell Moody   \n",
       "5041                        0                     489     Daniel Henney   \n",
       "5042                       16                      16  Brian Herzlinger   \n",
       "\n",
       "      actor_1_facebook_likes      gross                           genres  ...  \\\n",
       "0                       1000  760505847  Action|Adventure|Fantasy|Sci-Fi  ...   \n",
       "1                      40000  309404152         Action|Adventure|Fantasy  ...   \n",
       "2                      11000  200074175        Action|Adventure|Thriller  ...   \n",
       "3                      27000  448130642                  Action|Thriller  ...   \n",
       "4                        131         49                      Documentary  ...   \n",
       "...                      ...        ...                              ...  ...   \n",
       "5038                     637         49                     Comedy|Drama  ...   \n",
       "5039                     841         49     Crime|Drama|Mystery|Thriller  ...   \n",
       "5040                       0         49            Drama|Horror|Thriller  ...   \n",
       "5041                     946      10443             Comedy|Drama|Romance  ...   \n",
       "5042                      86      85222                      Documentary  ...   \n",
       "\n",
       "     num_user_for_reviews language  country  content_rating     budget  \\\n",
       "0                    3054  English      USA           PG-13  237000000   \n",
       "1                    1238  English      USA           PG-13  300000000   \n",
       "2                     994  English       UK           PG-13  245000000   \n",
       "3                    2701  English      USA           PG-13  250000000   \n",
       "4                      49       49       49              49         49   \n",
       "...                   ...      ...      ...             ...        ...   \n",
       "5038                    6  English   Canada              49         49   \n",
       "5039                  359  English      USA           TV-14         49   \n",
       "5040                    3  English      USA              49       1400   \n",
       "5041                    9  English      USA           PG-13         49   \n",
       "5042                   84  English      USA              PG       1100   \n",
       "\n",
       "      title_year actor_2_facebook_likes imdb_score  aspect_ratio  \\\n",
       "0           2009                    936        7.9          1.78   \n",
       "1           2007                   5000        7.1          2.35   \n",
       "2           2015                    393        6.8          2.35   \n",
       "3           2012                  23000        8.5          2.35   \n",
       "4             49                     12        7.1         49.00   \n",
       "...          ...                    ...        ...           ...   \n",
       "5038        2013                    470        7.7         49.00   \n",
       "5039          49                    593        7.5         16.00   \n",
       "5040        2013                      0        6.3         49.00   \n",
       "5041        2012                    719        6.3          2.35   \n",
       "5042        2004                     23        6.6          1.85   \n",
       "\n",
       "     movie_facebook_likes  \n",
       "0                   33000  \n",
       "1                       0  \n",
       "2                   85000  \n",
       "3                  164000  \n",
       "4                       0  \n",
       "...                   ...  \n",
       "5038                   84  \n",
       "5039                32000  \n",
       "5040                   16  \n",
       "5041                  660  \n",
       "5042                  456  \n",
       "\n",
       "[5043 rows x 28 columns]"
      ]
     },
     "execution_count": 4,
     "metadata": {},
     "output_type": "execute_result"
    }
   ],
   "source": [
    "data=pd.read_csv('movie_metadata.csv')\n",
    "data"
   ]
  },
  {
   "cell_type": "code",
   "execution_count": 5,
   "metadata": {
    "metadata": {}
   },
   "outputs": [
    {
     "data": {
      "text/plain": [
       "(5043, 2)"
      ]
     },
     "metadata": {},
     "output_type": "display_data"
    },
    {
     "data": {
      "text/html": [
       "<div>\n",
       "<style scoped>\n",
       "    .dataframe tbody tr th:only-of-type {\n",
       "        vertical-align: middle;\n",
       "    }\n",
       "\n",
       "    .dataframe tbody tr th {\n",
       "        vertical-align: top;\n",
       "    }\n",
       "\n",
       "    .dataframe thead th {\n",
       "        text-align: right;\n",
       "    }\n",
       "</style>\n",
       "<table border=\"1\" class=\"dataframe\">\n",
       "  <thead>\n",
       "    <tr style=\"text-align: right;\">\n",
       "      <th></th>\n",
       "      <th>0</th>\n",
       "      <th>1</th>\n",
       "    </tr>\n",
       "  </thead>\n",
       "  <tbody>\n",
       "    <tr>\n",
       "      <th>0</th>\n",
       "      <td>237000000</td>\n",
       "      <td>760505847</td>\n",
       "    </tr>\n",
       "    <tr>\n",
       "      <th>1</th>\n",
       "      <td>300000000</td>\n",
       "      <td>309404152</td>\n",
       "    </tr>\n",
       "    <tr>\n",
       "      <th>2</th>\n",
       "      <td>245000000</td>\n",
       "      <td>200074175</td>\n",
       "    </tr>\n",
       "    <tr>\n",
       "      <th>3</th>\n",
       "      <td>250000000</td>\n",
       "      <td>448130642</td>\n",
       "    </tr>\n",
       "    <tr>\n",
       "      <th>4</th>\n",
       "      <td>49</td>\n",
       "      <td>49</td>\n",
       "    </tr>\n",
       "    <tr>\n",
       "      <th>...</th>\n",
       "      <td>...</td>\n",
       "      <td>...</td>\n",
       "    </tr>\n",
       "    <tr>\n",
       "      <th>5038</th>\n",
       "      <td>49</td>\n",
       "      <td>49</td>\n",
       "    </tr>\n",
       "    <tr>\n",
       "      <th>5039</th>\n",
       "      <td>49</td>\n",
       "      <td>49</td>\n",
       "    </tr>\n",
       "    <tr>\n",
       "      <th>5040</th>\n",
       "      <td>1400</td>\n",
       "      <td>49</td>\n",
       "    </tr>\n",
       "    <tr>\n",
       "      <th>5041</th>\n",
       "      <td>49</td>\n",
       "      <td>10443</td>\n",
       "    </tr>\n",
       "    <tr>\n",
       "      <th>5042</th>\n",
       "      <td>1100</td>\n",
       "      <td>85222</td>\n",
       "    </tr>\n",
       "  </tbody>\n",
       "</table>\n",
       "<p>5043 rows × 2 columns</p>\n",
       "</div>"
      ],
      "text/plain": [
       "              0          1\n",
       "0     237000000  760505847\n",
       "1     300000000  309404152\n",
       "2     245000000  200074175\n",
       "3     250000000  448130642\n",
       "4            49         49\n",
       "...         ...        ...\n",
       "5038         49         49\n",
       "5039         49         49\n",
       "5040       1400         49\n",
       "5041         49      10443\n",
       "5042       1100      85222\n",
       "\n",
       "[5043 rows x 2 columns]"
      ]
     },
     "metadata": {},
     "output_type": "display_data"
    }
   ],
   "source": [
    "# Data For clustering(Dendrogram)\n",
    "# Display Budget and Gross\n",
    "\n",
    "x=data[['budget','gross']].values\n",
    "display(x.shape)\n",
    "display(pd.DataFrame(x))"
   ]
  },
  {
   "cell_type": "code",
   "execution_count": 6,
   "metadata": {
    "metadata": {}
   },
   "outputs": [
    {
     "data": {
      "text/plain": [
       "(100, 2)"
      ]
     },
     "metadata": {},
     "output_type": "display_data"
    },
    {
     "data": {
      "text/plain": [
       "array([[237000000, 760505847],\n",
       "       [300000000, 309404152],\n",
       "       [245000000, 200074175],\n",
       "       [250000000, 448130642],\n",
       "       [       49,        49],\n",
       "       [263700000,  73058679],\n",
       "       [258000000, 336530303],\n",
       "       [260000000, 200807262],\n",
       "       [250000000, 458991599],\n",
       "       [250000000, 301956980],\n",
       "       [250000000, 330249062],\n",
       "       [209000000, 200069408],\n",
       "       [200000000, 168368427],\n",
       "       [225000000, 423032628],\n",
       "       [215000000,  89289910],\n",
       "       [225000000, 291021565],\n",
       "       [225000000, 141614023],\n",
       "       [220000000, 623279547],\n",
       "       [250000000, 241063875],\n",
       "       [225000000, 179020854],\n",
       "       [250000000, 255108370],\n",
       "       [230000000, 262030663],\n",
       "       [200000000, 105219735],\n",
       "       [225000000, 258355354],\n",
       "       [180000000,  70083519],\n",
       "       [207000000, 218051260],\n",
       "       [200000000, 658672302],\n",
       "       [250000000, 407197282],\n",
       "       [209000000,  65173160],\n",
       "       [150000000, 652177271],\n",
       "       [200000000, 304360277],\n",
       "       [200000000, 373377893],\n",
       "       [200000000, 408992272],\n",
       "       [200000000, 334185206],\n",
       "       [210000000, 234360014],\n",
       "       [200000000, 268488329],\n",
       "       [200000000, 402076689],\n",
       "       [210000000, 245428137],\n",
       "       [215000000, 234903076],\n",
       "       [200000000, 202853933],\n",
       "       [170000000, 172051787],\n",
       "       [200000000, 191450875],\n",
       "       [200000000, 116593191],\n",
       "       [200000000, 414984497],\n",
       "       [200000000, 125320003],\n",
       "       [190000000, 350034110],\n",
       "       [190000000, 202351611],\n",
       "       [200000000, 233914986],\n",
       "       [190000000, 228756232],\n",
       "       [195000000,  65171860],\n",
       "       [105000000, 144812796],\n",
       "       [200000000,  90755643],\n",
       "       [190000000, 101785482],\n",
       "       [195000000, 352358779],\n",
       "       [185000000, 317011114],\n",
       "       [       49, 123070338],\n",
       "       [185000000, 237282182],\n",
       "       [185000000, 130468626],\n",
       "       [180000000, 223806889],\n",
       "       [140000000, 140080850],\n",
       "       [200000000, 166112167],\n",
       "       [200000000, 137850096],\n",
       "       [176000000,  47375327],\n",
       "       [180000000, 124051759],\n",
       "       [180000000, 291709845],\n",
       "       [178000000, 154985087],\n",
       "       [185000000, 533316061],\n",
       "       [175000000, 292979556],\n",
       "       [175000000, 198332128],\n",
       "       [140000000, 318298180],\n",
       "       [170000000,  73820094],\n",
       "       [170000000, 113745408],\n",
       "       [145000000, 102176165],\n",
       "       [175000000, 161087183],\n",
       "       [175000000, 100289690],\n",
       "       [178000000, 100189501],\n",
       "       [175000000,  88246220],\n",
       "       [175000000, 150167630],\n",
       "       [175000000, 356454367],\n",
       "       [175000000, 362645141],\n",
       "       [200000000, 312057433],\n",
       "       [170000000, 155111815],\n",
       "       [180000000, 241407328],\n",
       "       [170000000, 208543795],\n",
       "       [       49,        49],\n",
       "       [175000000,  38297305],\n",
       "       [170000000, 259746958],\n",
       "       [165000000, 238371987],\n",
       "       [190000000,  93417865],\n",
       "       [165000000, 222487711],\n",
       "       [165000000, 189412677],\n",
       "       [165000000,    665426],\n",
       "       [165000000, 102315545],\n",
       "       [165000000, 217387997],\n",
       "       [200000000, 150350192],\n",
       "       [170000000, 333130696],\n",
       "       [165000000, 187991439],\n",
       "       [160000000, 292568851],\n",
       "       [       49,        49],\n",
       "       [180000000, 303001229]], dtype=int64)"
      ]
     },
     "metadata": {},
     "output_type": "display_data"
    }
   ],
   "source": [
    "# Select the first 100 records\n",
    "\n",
    "x=x[0:100]\n",
    "display(x.shape)\n",
    "display(x)"
   ]
  },
  {
   "cell_type": "code",
   "execution_count": 7,
   "metadata": {
    "metadata": {}
   },
   "outputs": [
    {
     "data": {
      "image/png": "[encoded data removed]",
      "text/plain": [
       "<Figure size 2000x800 with 1 Axes>"
      ]
     },
     "metadata": {},
     "output_type": "display_data"
    }
   ],
   "source": [
    "# Create Dendrogram with Ward\n",
    "\n",
    "import scipy.cluster.hierarchy as sch\n",
    "plt.figure(figsize=(20,8))\n",
    "dendrogram=sch.dendrogram(sch.linkage(x,method='ward'))"
   ]
  },
  {
   "cell_type": "code",
   "execution_count": 8,
   "metadata": {
    "metadata": {}
   },
   "outputs": [
    {
     "name": "stdout",
     "output_type": "stream",
     "text": [
      "1    68\n",
      "0    32\n",
      "Name: count, dtype: int64\n"
     ]
    },
    {
     "data": {
      "text/plain": [
       "array([0, 0, 1, 0, 1, 1, 0, 1, 0, 0, 0, 1, 1, 0, 1, 0, 1, 0, 1, 1, 1, 1,\n",
       "       1, 1, 1, 1, 0, 0, 1, 0, 0, 0, 0, 0, 1, 1, 0, 1, 1, 1, 1, 1, 1, 0,\n",
       "       1, 0, 1, 1, 1, 1, 1, 1, 1, 0, 0, 1, 1, 1, 1, 1, 1, 1, 1, 1, 0, 1,\n",
       "       0, 0, 1, 0, 1, 1, 1, 1, 1, 1, 1, 1, 0, 0, 0, 1, 1, 1, 1, 1, 1, 1,\n",
       "       1, 1, 1, 1, 1, 1, 1, 0, 1, 0, 1, 0], dtype=int64)"
      ]
     },
     "metadata": {},
     "output_type": "display_data"
    }
   ],
   "source": [
    "# Model with 2 clusters\n",
    "\n",
    "from sklearn.cluster import AgglomerativeClustering\n",
    "hc=AgglomerativeClustering(n_clusters=2,metric='euclidean',linkage='ward')\n",
    "y_hc=hc.fit_predict(x)\n",
    "print(pd.DataFrame(y_hc).value_counts())\n",
    "display(y_hc)"
   ]
  },
  {
   "cell_type": "code",
   "execution_count": 9,
   "metadata": {
    "metadata": {}
   },
   "outputs": [
    {
     "name": "stdout",
     "output_type": "stream",
     "text": [
      "0    68\n",
      "1    27\n",
      "2     5\n",
      "Name: count, dtype: int64\n"
     ]
    },
    {
     "data": {
      "text/plain": [
       "array([2, 1, 0, 1, 0, 0, 1, 0, 1, 1, 1, 0, 0, 1, 0, 1, 0, 2, 0, 0, 0, 0,\n",
       "       0, 0, 0, 0, 2, 1, 0, 2, 1, 1, 1, 1, 0, 0, 1, 0, 0, 0, 0, 0, 0, 1,\n",
       "       0, 1, 0, 0, 0, 0, 0, 0, 0, 1, 1, 0, 0, 0, 0, 0, 0, 0, 0, 0, 1, 0,\n",
       "       2, 1, 0, 1, 0, 0, 0, 0, 0, 0, 0, 0, 1, 1, 1, 0, 0, 0, 0, 0, 0, 0,\n",
       "       0, 0, 0, 0, 0, 0, 0, 1, 0, 1, 0, 1], dtype=int64)"
      ]
     },
     "metadata": {},
     "output_type": "display_data"
    }
   ],
   "source": [
    "# Model with 3 clusters\n",
    "\n",
    "from sklearn.cluster import AgglomerativeClustering\n",
    "hc=AgglomerativeClustering(n_clusters=3,metric='euclidean',linkage='ward')\n",
    "y_hc=hc.fit_predict(x)\n",
    "print(pd.DataFrame(y_hc).value_counts())\n",
    "display(y_hc)"
   ]
  },
  {
   "cell_type": "code",
   "execution_count": 10,
   "metadata": {
    "metadata": {}
   },
   "outputs": [
    {
     "name": "stdout",
     "output_type": "stream",
     "text": [
      "1    45\n",
      "3    27\n",
      "0    23\n",
      "2     5\n",
      "Name: count, dtype: int64\n"
     ]
    },
    {
     "data": {
      "text/plain": [
       "array([2, 3, 1, 3, 0, 0, 3, 1, 3, 3, 3, 1, 1, 3, 0, 3, 1, 2, 1, 1, 1, 1,\n",
       "       0, 1, 0, 1, 2, 3, 0, 2, 3, 3, 3, 3, 1, 1, 3, 1, 1, 1, 1, 1, 1, 3,\n",
       "       1, 3, 1, 1, 1, 0, 1, 0, 0, 3, 3, 0, 1, 1, 1, 1, 1, 1, 0, 1, 3, 1,\n",
       "       2, 3, 1, 3, 0, 0, 0, 1, 0, 0, 0, 1, 3, 3, 3, 1, 1, 1, 0, 0, 1, 1,\n",
       "       0, 1, 1, 0, 0, 1, 1, 3, 1, 3, 0, 3], dtype=int64)"
      ]
     },
     "metadata": {},
     "output_type": "display_data"
    }
   ],
   "source": [
    "# Model with 3 clusters\n",
    "\n",
    "from sklearn.cluster import AgglomerativeClustering\n",
    "hc=AgglomerativeClustering(n_clusters=4,metric='euclidean',linkage='ward')\n",
    "y_hc=hc.fit_predict(x)\n",
    "print(pd.DataFrame(y_hc).value_counts())\n",
    "display(y_hc)"
   ]
  },
  {
   "cell_type": "code",
   "execution_count": 11,
   "metadata": {
    "metadata": {}
   },
   "outputs": [
    {
     "data": {
      "image/png": "[encoded data removed]",
      "text/plain": [
       "<Figure size 1500x800 with 1 Axes>"
      ]
     },
     "metadata": {},
     "output_type": "display_data"
    }
   ],
   "source": [
    "import scipy.cluster.hierarchy as sch\n",
    "plt.figure(figsize=(15,8))\n",
    "dendrogram=sch.dendrogram(sch.linkage(x,method='ward'))"
   ]
  },
  {
   "cell_type": "code",
   "execution_count": 12,
   "metadata": {
    "metadata": {}
   },
   "outputs": [
    {
     "name": "stdout",
     "output_type": "stream",
     "text": [
      "0    45\n",
      "1    27\n",
      "4    19\n",
      "2     5\n",
      "3     4\n",
      "Name: count, dtype: int64\n"
     ]
    },
    {
     "data": {
      "text/plain": [
       "array([2, 1, 0, 1, 3, 4, 1, 0, 1, 1, 1, 0, 0, 1, 4, 1, 0, 2, 0, 0, 0, 0,\n",
       "       4, 0, 4, 0, 2, 1, 4, 2, 1, 1, 1, 1, 0, 0, 1, 0, 0, 0, 0, 0, 0, 1,\n",
       "       0, 1, 0, 0, 0, 4, 0, 4, 4, 1, 1, 3, 0, 0, 0, 0, 0, 0, 4, 0, 1, 0,\n",
       "       2, 1, 0, 1, 4, 4, 4, 0, 4, 4, 4, 0, 1, 1, 1, 0, 0, 0, 3, 4, 0, 0,\n",
       "       4, 0, 0, 4, 4, 0, 0, 1, 0, 1, 3, 1], dtype=int64)"
      ]
     },
     "metadata": {},
     "output_type": "display_data"
    }
   ],
   "source": [
    "# Model with 5 clusters\n",
    "\n",
    "from sklearn.cluster import AgglomerativeClustering\n",
    "hc=AgglomerativeClustering(n_clusters=5,metric='euclidean',linkage='ward')\n",
    "y_hc=hc.fit_predict(x)\n",
    "print(pd.DataFrame(y_hc).value_counts())\n",
    "display(y_hc)"
   ]
  },
  {
   "cell_type": "code",
   "execution_count": 13,
   "metadata": {
    "metadata": {}
   },
   "outputs": [
    {
     "data": {
      "image/png": "[encoded data removed]",
      "text/plain": [
       "<Figure size 1000x500 with 1 Axes>"
      ]
     },
     "metadata": {},
     "output_type": "display_data"
    }
   ],
   "source": [
    "# Create Dendrogram with Single\n",
    "\n",
    "import scipy.cluster.hierarchy as sch\n",
    "plt.figure(figsize=(10,5))\n",
    "dendrogram=sch.dendrogram(sch.linkage(x,method='single'))\n"
   ]
  },
  {
   "cell_type": "code",
   "execution_count": 17,
   "metadata": {
    "metadata": {}
   },
   "outputs": [
    {
     "name": "stdout",
     "output_type": "stream",
     "text": [
      "0    97\n",
      "1     3\n",
      "Name: count, dtype: int64\n"
     ]
    },
    {
     "data": {
      "text/plain": [
       "array([0, 0, 0, 0, 1, 0, 0, 0, 0, 0, 0, 0, 0, 0, 0, 0, 0, 0, 0, 0, 0, 0,\n",
       "       0, 0, 0, 0, 0, 0, 0, 0, 0, 0, 0, 0, 0, 0, 0, 0, 0, 0, 0, 0, 0, 0,\n",
       "       0, 0, 0, 0, 0, 0, 0, 0, 0, 0, 0, 0, 0, 0, 0, 0, 0, 0, 0, 0, 0, 0,\n",
       "       0, 0, 0, 0, 0, 0, 0, 0, 0, 0, 0, 0, 0, 0, 0, 0, 0, 0, 1, 0, 0, 0,\n",
       "       0, 0, 0, 0, 0, 0, 0, 0, 0, 0, 1, 0], dtype=int64)"
      ]
     },
     "metadata": {},
     "output_type": "display_data"
    }
   ],
   "source": [
    "#  The model with 2 clusters\n",
    "\n",
    "from sklearn.cluster import AgglomerativeClustering\n",
    "hc=AgglomerativeClustering(n_clusters=2,metric='euclidean',linkage='single')\n",
    "y_hc=hc.fit_predict(x)\n",
    "print(pd.DataFrame(y_hc).value_counts())\n",
    "display(y_hc)"
   ]
  },
  {
   "cell_type": "code",
   "execution_count": 18,
   "metadata": {
    "metadata": {}
   },
   "outputs": [
    {
     "name": "stdout",
     "output_type": "stream",
     "text": [
      "0    96\n",
      "1     3\n",
      "2     1\n",
      "Name: count, dtype: int64\n"
     ]
    },
    {
     "data": {
      "text/plain": [
       "array([2, 0, 0, 0, 1, 0, 0, 0, 0, 0, 0, 0, 0, 0, 0, 0, 0, 0, 0, 0, 0, 0,\n",
       "       0, 0, 0, 0, 0, 0, 0, 0, 0, 0, 0, 0, 0, 0, 0, 0, 0, 0, 0, 0, 0, 0,\n",
       "       0, 0, 0, 0, 0, 0, 0, 0, 0, 0, 0, 0, 0, 0, 0, 0, 0, 0, 0, 0, 0, 0,\n",
       "       0, 0, 0, 0, 0, 0, 0, 0, 0, 0, 0, 0, 0, 0, 0, 0, 0, 0, 1, 0, 0, 0,\n",
       "       0, 0, 0, 0, 0, 0, 0, 0, 0, 0, 1, 0], dtype=int64)"
      ]
     },
     "metadata": {},
     "output_type": "display_data"
    }
   ],
   "source": [
    "#  The model with 3 clusters\n",
    "\n",
    "from sklearn.cluster import AgglomerativeClustering\n",
    "hc=AgglomerativeClustering(n_clusters=3,metric='euclidean',linkage='single')\n",
    "y_hc=hc.fit_predict(x)\n",
    "print(pd.DataFrame(y_hc).value_counts())\n",
    "display(y_hc)"
   ]
  },
  {
   "cell_type": "code",
   "execution_count": 19,
   "metadata": {
    "metadata": {}
   },
   "outputs": [
    {
     "name": "stdout",
     "output_type": "stream",
     "text": [
      "0    95\n",
      "1     3\n",
      "2     1\n",
      "3     1\n",
      "Name: count, dtype: int64\n"
     ]
    },
    {
     "data": {
      "text/plain": [
       "array([2, 0, 0, 0, 1, 0, 0, 0, 0, 0, 0, 0, 0, 0, 0, 0, 0, 0, 0, 0, 0, 0,\n",
       "       0, 0, 0, 0, 0, 0, 0, 0, 0, 0, 0, 0, 0, 0, 0, 0, 0, 0, 0, 0, 0, 0,\n",
       "       0, 0, 0, 0, 0, 0, 0, 0, 0, 0, 0, 3, 0, 0, 0, 0, 0, 0, 0, 0, 0, 0,\n",
       "       0, 0, 0, 0, 0, 0, 0, 0, 0, 0, 0, 0, 0, 0, 0, 0, 0, 0, 1, 0, 0, 0,\n",
       "       0, 0, 0, 0, 0, 0, 0, 0, 0, 0, 1, 0], dtype=int64)"
      ]
     },
     "metadata": {},
     "output_type": "display_data"
    }
   ],
   "source": [
    "#  The model with 4 clusters\n",
    "\n",
    "from sklearn.cluster import AgglomerativeClustering\n",
    "hc=AgglomerativeClustering(n_clusters=4,metric='euclidean',linkage='single')\n",
    "y_hc=hc.fit_predict(x)\n",
    "print(pd.DataFrame(y_hc).value_counts())\n",
    "display(y_hc)"
   ]
  },
  {
   "cell_type": "code",
   "execution_count": 20,
   "metadata": {
    "metadata": {}
   },
   "outputs": [
    {
     "data": {
      "image/png": "[encoded data removed]",
      "text/plain": [
       "<Figure size 1000x500 with 1 Axes>"
      ]
     },
     "metadata": {},
     "output_type": "display_data"
    }
   ],
   "source": [
    "# Create Dendrogram with Complete\n",
    "\n",
    "import scipy.cluster.hierarchy as sch\n",
    "plt.figure(figsize=(10,5))\n",
    "dendrogram=sch.dendrogram(sch.linkage(x,method='complete'))\n"
   ]
  },
  {
   "cell_type": "code",
   "execution_count": 21,
   "metadata": {
    "metadata": {}
   },
   "outputs": [
    {
     "name": "stdout",
     "output_type": "stream",
     "text": [
      "0    95\n",
      "1     5\n",
      "Name: count, dtype: int64\n"
     ]
    },
    {
     "data": {
      "text/plain": [
       "array([1, 0, 0, 0, 0, 0, 0, 0, 0, 0, 0, 0, 0, 0, 0, 0, 0, 1, 0, 0, 0, 0,\n",
       "       0, 0, 0, 0, 1, 0, 0, 1, 0, 0, 0, 0, 0, 0, 0, 0, 0, 0, 0, 0, 0, 0,\n",
       "       0, 0, 0, 0, 0, 0, 0, 0, 0, 0, 0, 0, 0, 0, 0, 0, 0, 0, 0, 0, 0, 0,\n",
       "       1, 0, 0, 0, 0, 0, 0, 0, 0, 0, 0, 0, 0, 0, 0, 0, 0, 0, 0, 0, 0, 0,\n",
       "       0, 0, 0, 0, 0, 0, 0, 0, 0, 0, 0, 0], dtype=int64)"
      ]
     },
     "metadata": {},
     "output_type": "display_data"
    }
   ],
   "source": [
    "#  The model with 2 clusters\n",
    "\n",
    "from sklearn.cluster import AgglomerativeClustering\n",
    "hc=AgglomerativeClustering(n_clusters=2,metric='euclidean',linkage='complete')\n",
    "y_hc=hc.fit_predict(x)\n",
    "print(pd.DataFrame(y_hc).value_counts())\n",
    "display(y_hc)"
   ]
  },
  {
   "cell_type": "code",
   "execution_count": 22,
   "metadata": {
    "metadata": {}
   },
   "outputs": [
    {
     "name": "stdout",
     "output_type": "stream",
     "text": [
      "0    58\n",
      "2    37\n",
      "1     5\n",
      "Name: count, dtype: int64\n"
     ]
    },
    {
     "data": {
      "text/plain": [
       "array([1, 2, 0, 2, 0, 0, 2, 0, 2, 2, 2, 0, 0, 2, 0, 2, 0, 1, 2, 0, 2, 2,\n",
       "       0, 2, 0, 0, 1, 2, 0, 1, 2, 2, 2, 2, 2, 2, 2, 2, 2, 0, 0, 0, 0, 2,\n",
       "       0, 2, 0, 2, 0, 0, 0, 0, 0, 2, 2, 0, 0, 0, 0, 0, 0, 0, 0, 0, 2, 0,\n",
       "       1, 2, 0, 2, 0, 0, 0, 0, 0, 0, 0, 0, 2, 2, 2, 0, 0, 0, 0, 0, 2, 0,\n",
       "       0, 0, 0, 0, 0, 0, 0, 2, 0, 2, 0, 2], dtype=int64)"
      ]
     },
     "metadata": {},
     "output_type": "display_data"
    }
   ],
   "source": [
    "#  The model with 3 clusters\n",
    "\n",
    "from sklearn.cluster import AgglomerativeClustering\n",
    "hc=AgglomerativeClustering(n_clusters=3,metric='euclidean',linkage='complete')\n",
    "y_hc=hc.fit_predict(x)\n",
    "print(pd.DataFrame(y_hc).value_counts())\n",
    "display(y_hc)"
   ]
  },
  {
   "cell_type": "code",
   "execution_count": 23,
   "metadata": {
    "metadata": {}
   },
   "outputs": [
    {
     "name": "stdout",
     "output_type": "stream",
     "text": [
      "2    37\n",
      "1    35\n",
      "4    19\n",
      "0     5\n",
      "3     4\n",
      "Name: count, dtype: int64\n"
     ]
    },
    {
     "data": {
      "text/plain": [
       "array([0, 2, 1, 2, 3, 4, 2, 1, 2, 2, 2, 1, 1, 2, 4, 2, 1, 0, 2, 1, 2, 2,\n",
       "       4, 2, 4, 1, 0, 2, 4, 0, 2, 2, 2, 2, 2, 2, 2, 2, 2, 1, 1, 1, 1, 2,\n",
       "       1, 2, 1, 2, 1, 4, 1, 4, 4, 2, 2, 3, 1, 1, 1, 1, 1, 1, 4, 1, 2, 1,\n",
       "       0, 2, 1, 2, 4, 4, 4, 1, 4, 4, 4, 1, 2, 2, 2, 1, 1, 1, 3, 4, 2, 1,\n",
       "       4, 1, 1, 4, 4, 1, 1, 2, 1, 2, 3, 2], dtype=int64)"
      ]
     },
     "metadata": {},
     "output_type": "display_data"
    }
   ],
   "source": [
    "#  The model with 5 clusters\n",
    "\n",
    "from sklearn.cluster import AgglomerativeClustering\n",
    "hc=AgglomerativeClustering(n_clusters=5,metric='euclidean',linkage='complete')\n",
    "y_hc=hc.fit_predict(x)\n",
    "print(pd.DataFrame(y_hc).value_counts())\n",
    "display(y_hc)"
   ]
  },
  {
   "cell_type": "code",
   "execution_count": 24,
   "metadata": {
    "metadata": {}
   },
   "outputs": [
    {
     "data": {
      "image/png": "[encoded data removed]",
      "text/plain": [
       "<Figure size 1000x500 with 1 Axes>"
      ]
     },
     "metadata": {},
     "output_type": "display_data"
    }
   ],
   "source": [
    "# Create Dendrogram with Avrage\n",
    "\n",
    "import scipy.cluster.hierarchy as sch\n",
    "plt.figure(figsize=(10,5))\n",
    "dendrogram=sch.dendrogram(sch.linkage(x,method='average'))\n"
   ]
  },
  {
   "cell_type": "code",
   "execution_count": 26,
   "metadata": {
    "metadata": {}
   },
   "outputs": [
    {
     "name": "stdout",
     "output_type": "stream",
     "text": [
      "0    88\n",
      "1    12\n",
      "Name: count, dtype: int64\n"
     ]
    },
    {
     "data": {
      "text/plain": [
       "array([1, 0, 0, 1, 0, 0, 0, 0, 1, 0, 0, 0, 0, 1, 0, 0, 0, 1, 0, 0, 0, 0,\n",
       "       0, 0, 0, 0, 1, 1, 0, 1, 0, 0, 1, 0, 0, 0, 1, 0, 0, 0, 0, 0, 0, 1,\n",
       "       0, 0, 0, 0, 0, 0, 0, 0, 0, 0, 0, 0, 0, 0, 0, 0, 0, 0, 0, 0, 0, 0,\n",
       "       1, 0, 0, 0, 0, 0, 0, 0, 0, 0, 0, 0, 0, 0, 0, 0, 0, 0, 0, 0, 0, 0,\n",
       "       0, 0, 0, 0, 0, 0, 0, 0, 0, 0, 0, 0], dtype=int64)"
      ]
     },
     "metadata": {},
     "output_type": "display_data"
    }
   ],
   "source": [
    "#  The model with 2 clusters\n",
    "\n",
    "from sklearn.cluster import AgglomerativeClustering\n",
    "hc=AgglomerativeClustering(n_clusters=2,metric='euclidean',linkage='average')\n",
    "y_hc=hc.fit_predict(x)\n",
    "print(pd.DataFrame(y_hc).value_counts())\n",
    "display(y_hc)"
   ]
  },
  {
   "cell_type": "code",
   "execution_count": 27,
   "metadata": {
    "metadata": {}
   },
   "outputs": [
    {
     "name": "stdout",
     "output_type": "stream",
     "text": [
      "1    84\n",
      "0    12\n",
      "2     4\n",
      "Name: count, dtype: int64\n"
     ]
    },
    {
     "data": {
      "text/plain": [
       "array([0, 1, 1, 0, 2, 1, 1, 1, 0, 1, 1, 1, 1, 0, 1, 1, 1, 0, 1, 1, 1, 1,\n",
       "       1, 1, 1, 1, 0, 0, 1, 0, 1, 1, 0, 1, 1, 1, 0, 1, 1, 1, 1, 1, 1, 0,\n",
       "       1, 1, 1, 1, 1, 1, 1, 1, 1, 1, 1, 2, 1, 1, 1, 1, 1, 1, 1, 1, 1, 1,\n",
       "       0, 1, 1, 1, 1, 1, 1, 1, 1, 1, 1, 1, 1, 1, 1, 1, 1, 1, 2, 1, 1, 1,\n",
       "       1, 1, 1, 1, 1, 1, 1, 1, 1, 1, 2, 1], dtype=int64)"
      ]
     },
     "metadata": {},
     "output_type": "display_data"
    }
   ],
   "source": [
    "#  The model with 3 clusters\n",
    "\n",
    "from sklearn.cluster import AgglomerativeClustering\n",
    "hc=AgglomerativeClustering(n_clusters=3,metric='euclidean',linkage='average')\n",
    "y_hc=hc.fit_predict(x)\n",
    "print(pd.DataFrame(y_hc).value_counts())\n",
    "display(y_hc)\n"
   ]
  }
 ],
 "metadata": {
  "kernelspec": {
   "display_name": "base",
   "language": "python",
   "name": "python3"
  },
  "language_info": {
   "codemirror_mode": {
    "name": "ipython",
    "version": 3
   },
   "file_extension": ".py",
   "mimetype": "text/x-python",
   "name": "python",
   "nbconvert_exporter": "python",
   "pygments_lexer": "ipython3",
   "version": "3.11.5"
  }
 },
 "nbformat": 4,
 "nbformat_minor": 2
}
